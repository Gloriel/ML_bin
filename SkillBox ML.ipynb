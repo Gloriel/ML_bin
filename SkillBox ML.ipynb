{
 "cells": [
  {
   "cell_type": "code",
   "execution_count": null,
   "metadata": {},
   "outputs": [],
   "source": [
    "import pandas as pnd\n",
    "import matplotlib.pyplot as plt\n",
    "from sklearn.ensemble import RandomForestClassifier\n",
    "from sklearn.linear_model import LinearRegression #Самый простой \n",
    "from sklearn.metrics import mean_absolute_error\n",
    "from sklearn.ensemble import RandomForestRegressor\n",
    "from sklearn.neural_network import MLPRegressor #Лучший если знать как настраивать\n",
    "from sklearn.neighbors import KNeighborsRegressor\n",
    "from sklearn.ensemble import GradientBoostingRegressor #Самый частый\n",
    "from sklearn.model_selection import GridSearchCV #Позволяет подобрать параметры к модели"
   ]
  },
  {
   "cell_type": "code",
   "execution_count": null,
   "metadata": {},
   "outputs": [],
   "source": [
    "# Рисовать графики сразу же\n",
    "%matplotlib inline\n",
    "\n",
    "plt.style.use('ggplot')  # Красивые графики\n",
    "plt.rcParams['figure.figsize'] = (15, 5)  # Размер картинок"
   ]
  },
  {
   "cell_type": "code",
   "execution_count": null,
   "metadata": {},
   "outputs": [],
   "source": [
    "#Форматированные строки - ставим F и фигурные скобки\n",
    "#Матанализ, Линейная алгебра, Матстаистика, Теория вероятностей, Комбинаторика\n",
    "\n",
    "intensive = \"Обучение в ускоренном формате\"\n",
    "duration = \"130 минут\"\n",
    "speaker = \"Саша\"\n",
    "profession = \"джуниор\"\n",
    "whois = speaker + \", \" + profession\n",
    "print(f\"Сегодня у нас {intensive}, проведет {whois}, длительностью {duration} и расскажет о том как рассчитываются налоги\")\n",
    "\n",
    "income = [12,26,43,54]\n",
    "for i in income:\n",
    "    tax = 0.13 * i\n",
    "    print(f\"Если Вы получили доход в размере {i}, должны уплатить налог в размере {tax}\")\n",
    "    \n",
    "plt.plot(income)\n",
    "plt.show()"
   ]
  },
  {
   "cell_type": "markdown",
   "metadata": {},
   "source": [
    "#После разведочного анализа\n",
    "#Преобразование данных в табличку, где текстовые данные превращаются в 0 и 1\n",
    "trips = pnd.read_excel(\"trips_data.xlsx\", index_col=0) #Датафрейм\n",
    "\n",
    "trips_trasformed = pnd.get_dummies()(trips, columns['city', 'vacation_preference', 'transport_preference'])\n",
    "\n",
    "input_data = trips_transformed.drop('target', axis=1) #Данные на основании которых мы хотим научиться\n",
    "target = trips_transformed.target #То что мы пытаемся предсказать\n",
    "\n",
    "#Выбираем модель. Настраиваем\n",
    "model = RandomForestClassifier()\n",
    "\n",
    "#Теперь обучаем ее\n",
    "model.fit(input_data, target)\n",
    "\n",
    "#Передаем пример. Это вызывает список всех заголовков с параметрами 0\n",
    "{col:[0] for col in input_data.columns}\n",
    "example = {}\n",
    "example_dataframe = pnd.DataFrame(data=example)\n",
    "\n",
    "#А теперь пытаемся посмотреть предсказание\n",
    "model.predict(example_dataframe)"
   ]
  },
  {
   "cell_type": "code",
   "execution_count": null,
   "metadata": {},
   "outputs": [],
   "source": [
    "#Попробуем предсказать курс доллара\n",
    "#Качаем данные с ЦБ за три года. Открываем табличку. \n",
    "dataframe = pnd.read_excel(\"RC_F01_08_2017_T01_08_2020.xlsx\")"
   ]
  },
  {
   "cell_type": "code",
   "execution_count": null,
   "metadata": {
    "scrolled": true
   },
   "outputs": [],
   "source": [
    "\n",
    "\n",
    "#Выбираем одну колонку. Конкретно курса\n",
    "rate = dataframe.curs\n",
    "\n",
    "#Нужны обучающие примеры чтобы находить закономерность\n",
    "#Давайте попытаемся предсказать курс на завтра на основе данных за 4 недели\n",
    "past = 28\n",
    "lenght = len(rate)\n",
    "count = lenght - past\n",
    "\n",
    "print(f\"Рассматриваем курс USD с {past} по {lenght}, день, всего {count} дней\")\n",
    "\n",
    "past_days = []\n",
    "current_day = []\n",
    "for day in range(past, lenght):\n",
    "    slc = list(rate[(day-past):day])\n",
    "    past_days.append(slc) #rate [0:29] and so on adds to list \n",
    "    current_day.append(rate[day])    \n",
    "    \n",
    "past_columns = []\n",
    "for i in range(past):\n",
    "    past_columns.append(f\"past_{i}\")\n",
    "\n",
    "X = pnd.DataFrame(data=past_days, columns=past_columns) #Получаем 28 колонок и 709 строчек с обучающими примерами\n",
    "#То на основе чего делаем предсказание\n",
    "\n",
    "Y = pnd.Series(current_day, name='target') #То что мы пытаемся предсказать\n",
    "\n",
    "#Обучающая выборка, \"Учебник\"\n",
    "X_train = X[:-10] #Берем все, кроме последних 10 строчек\n",
    "Y_train = Y[:-10]\n",
    "\n",
    "#Тестовая выборка, \"Экзамен\"\n",
    "X_test = X[-10:]\n",
    "Y_test = Y[-10:]\n",
    "\n",
    "lr_model = LinearRegression() #Берем модуль линейной регрессии \n",
    "lr_model.fit(X_train, Y_train) #Запускаем обучение\n",
    "prediction = lr_model.predict(X_test) #Смотрим предсказание обученной МЛ\n",
    "\n",
    "plt.plot(prediction, label=\"Prediction\") #Сравниваем на графике предсказанный курс и реальный\n",
    "plt.plot(list(Y_test), label = \"Real\")\n",
    "plt.legend()\n",
    "\n",
    "mae = mean_absolute_error(prediction, Y_test) #Смотрим процент ошибки - то есть средней разницы между МЛ и РЛ \n",
    "print(f\"MAE = {mae}\")"
   ]
  },
  {
   "cell_type": "code",
   "execution_count": null,
   "metadata": {},
   "outputs": [],
   "source": [
    "#Проверяем насколько каждая из колонок имеет ценность\n",
    "\n",
    "imp = pnd.Series(lr_model.coef_, name='importance')\n",
    "cols = pnd.Series(past_columns, name='columns')\n",
    "df = pnd.DataFrame(imp)\n",
    "df['imp'] = cols\n",
    "df"
   ]
  },
  {
   "cell_type": "code",
   "execution_count": null,
   "metadata": {
    "scrolled": true
   },
   "outputs": [],
   "source": [
    "#Пробуем другой модуль, сравниваем результаты\n",
    "#Настраиваем модуль.Играем с настройками\n",
    "rf_model = RandomForestRegressor(n_estimators=200, max_depth=10)\n",
    "rf_model.fit(X_train, Y_train )\n",
    "prediction = rf_model.predict(X_test)\n",
    "plt.plot(prediction, label=\"Prediction\") #Сравниваем на графике предсказанный курс и реальный\n",
    "plt.plot(list(Y_test), label = \"Real\")\n",
    "plt.legend()\n",
    "mae = mean_absolute_error(prediction, Y_test)\n",
    "print(f\"MAE = {mae}\")\n",
    "\n"
   ]
  },
  {
   "cell_type": "code",
   "execution_count": null,
   "metadata": {},
   "outputs": [],
   "source": [
    "#Проверяем насколько каждая из колонок имеет ценность\n",
    "#Видим что конкретная модель использует последние 4 дня, а 94% важен последний день\n",
    "\n",
    "imp = pnd.Series(rf_model.feature_importances_, name='importance')\n",
    "cols = pnd.Series(past_columns, name='columns')\n",
    "df = pnd.DataFrame(imp)\n",
    "df['imp'] = cols\n",
    "df"
   ]
  },
  {
   "cell_type": "code",
   "execution_count": null,
   "metadata": {},
   "outputs": [],
   "source": [
    "#Пробуем нейронную сеть\n",
    "mlp_model = MLPRegressor(max_iter=1000, hidden_layer_sizes=(200,200,200))\n",
    "mlp_model.fit(X_train, Y_train )\n",
    "prediction = mlp_model.predict(X_test)\n",
    "plt.plot(prediction, label=\"Prediction\") #Сравниваем на графике предсказанный курс и реальный\n",
    "plt.plot(list(Y_test), label = \"Real\")\n",
    "plt.legend()\n",
    "mae = mean_absolute_error(prediction, Y_test)\n",
    "print(f\"MAE = {mae}\")"
   ]
  },
  {
   "cell_type": "code",
   "execution_count": null,
   "metadata": {
    "scrolled": false
   },
   "outputs": [],
   "source": [
    "#Пробуем нейронную сеть\n",
    "mlp_model = MLPRegressor(max_iter=1000, hidden_layer_sizes=(200,200,200))\n",
    "mlp_model.fit(X_train, Y_train )\n",
    "prediction = mlp_model.predict(X_test)\n",
    "plt.plot(prediction, label=\"Prediction\") #Сравниваем на графике предсказанный курс и реальный\n",
    "plt.plot(list(Y_test), label = \"Real\")\n",
    "plt.legend()\n",
    "mae = mean_absolute_error(prediction, Y_test)\n",
    "print(f\"MAE = {mae}\")"
   ]
  },
  {
   "cell_type": "code",
   "execution_count": null,
   "metadata": {},
   "outputs": [],
   "source": [
    "#На основании соседних точек делает вывод кто ты. Видим, что данная модель тут вообще не работает \n",
    "\n",
    "knn_model = KNeighborsRegressor(n_neighbors=10)\n",
    "knn_model.fit(X_train, Y_train )\n",
    "prediction = knn_model.predict(X_test)\n",
    "plt.plot(prediction, label=\"Prediction\") #Сравниваем на графике предсказанный курс и реальный\n",
    "plt.plot(list(Y_test), label = \"Real\")\n",
    "plt.legend()\n",
    "mae = mean_absolute_error(prediction, Y_test)\n",
    "print(f\"MAE = {mae}\")"
   ]
  },
  {
   "cell_type": "code",
   "execution_count": null,
   "metadata": {
    "scrolled": false
   },
   "outputs": [],
   "source": [
    "#Модель для чайников. Дает результат даже без настроек\n",
    "\n",
    "gbr_model = GradientBoostingRegressor(n_estimators=1000)\n",
    "gbr_model.fit(X_train, Y_train )\n",
    "prediction = gbr_model.predict(X_test)\n",
    "plt.plot(prediction, label=\"Prediction\") #Сравниваем на графике предсказанный курс и реальный\n",
    "plt.plot(list(Y_test), label = \"Real\")\n",
    "plt.legend()\n",
    "mae = mean_absolute_error(prediction, Y_test)\n",
    "print(f\"MAE = {mae}\")"
   ]
  },
  {
   "cell_type": "code",
   "execution_count": null,
   "metadata": {},
   "outputs": [],
   "source": [
    "#Гридсерч делает поиск по сетке, Указываем модель, интересующие параметры и какую модель считать хорошей\n",
    "#CV - кросс-валидация.Множество вариантов обучения и тестирования на разных отрезках, со смешением и широким спектром\n",
    "#Все это гарантирует качество, вне зависимости от того, как мы разбили выборку.Честный и незывисимый способ\n",
    "#Градиентный спуск в линейной регрессии проверяется средней квадратичной ошибкой.\n",
    "\n",
    "regressor = GradientBoostingRegressor(max_depth=5, min_samples_split=3)\n",
    "grid = {\n",
    "        \"n_estimators\":[50,100,500],\n",
    "        \"learning_rate\":[0.05, 0.1, 0.5]\n",
    "}\n",
    "\n",
    "GS = GridSearchCV(regressor, grid, cv=5, scoring='neg_mean_absolute_error') #Задаем обязательные параметры"
   ]
  },
  {
   "cell_type": "code",
   "execution_count": null,
   "metadata": {},
   "outputs": [],
   "source": [
    "#Обучаем гридсерч\n",
    "GS.fit(X_train, Y_train)\n",
    "GS.best_score_ #Средний счет по всем выборкам\n",
    "GS.best_estimator_ #Лучшая подборка\n",
    "GS.best_params_ #Лучшие параметры"
   ]
  },
  {
   "cell_type": "code",
   "execution_count": null,
   "metadata": {},
   "outputs": [],
   "source": []
  }
 ],
 "metadata": {
  "kernelspec": {
   "display_name": "Python 3",
   "language": "python",
   "name": "python3"
  },
  "language_info": {
   "codemirror_mode": {
    "name": "ipython",
    "version": 3
   },
   "file_extension": ".py",
   "mimetype": "text/x-python",
   "name": "python",
   "nbconvert_exporter": "python",
   "pygments_lexer": "ipython3",
   "version": "3.8.3"
  }
 },
 "nbformat": 4,
 "nbformat_minor": 4
}
