{
 "cells": [
  {
   "cell_type": "code",
   "execution_count": null,
   "metadata": {},
   "outputs": [],
   "source": [
    "import pandas as pd\n",
    "import matplotlib.pyplot as plt\n",
    "%matplotlib inline\n",
    "plt.style.use('ggplot')  \n",
    "plt.rcParams['figure.figsize'] = (15, 5)  \n"
   ]
  },
  {
   "cell_type": "code",
   "execution_count": null,
   "metadata": {},
   "outputs": [],
   "source": [
    "plt.plot(income)\n",
    "plt.show()"
   ]
  },
  {
   "cell_type": "code",
   "execution_count": null,
   "metadata": {},
   "outputs": [],
   "source": []
  },
  {
   "cell_type": "code",
   "execution_count": null,
   "metadata": {
    "scrolled": true
   },
   "outputs": [],
   "source": [
    "rate = dataframe.curs\n",
    "\n",
    "past = 28\n",
    "lenght = len(rate)\n",
    "count = lenght - past\n",
    "\n",
    "print(f\"Рассматриваем курс USD с {past} по {lenght}, день, всего {count} дней\")\n",
    "\n",
    "past_days = []\n",
    "current_day = []\n",
    "for day in range(past, lenght):\n",
    "    slc = list(rate[(day-past):day])\n",
    "    past_days.append(slc) #rate [0:29] and so on adds to list \n",
    "    current_day.append(rate[day])    \n",
    "    \n",
    "past_columns = []\n",
    "for i in range(past):\n",
    "    past_columns.append(f\"past_{i}\")\n",
    "\n",
    "X = pnd.DataFrame(data=past_days, columns=past_columns) #Получаем 28 колонок и 709 строчек с обучающими примерами\n",
    "#То на основе чего делаем предсказание\n",
    "\n",
    "Y = pnd.Series(current_day, name='target') #То что мы пытаемся предсказать\n",
    "\n",
    "\n",
    "X_train = X[:-10] #Берем все, кроме последних 10 строчек\n",
    "Y_train = Y[:-10]\n",
    "\n",
    "\n",
    "X_test = X[-10:]\n",
    "Y_test = Y[-10:]\n",
    "\n",
    "lr_model = LinearRegression() #Берем модуль линейной регрессии \n",
    "lr_model.fit(X_train, Y_train) #Запускаем обучение\n",
    "prediction = lr_model.predict(X_test) #Смотрим предсказание обученной МЛ\n",
    "\n",
    "plt.plot(prediction, label=\"Prediction\") \n",
    "plt.plot(list(Y_test), label = \"Real\")\n",
    "plt.legend()\n",
    "\n",
    "mae = mean_absolute_error(prediction, Y_test) #Смотрим процент ошибки - то есть средней разницы между МЛ и РЛ \n",
    "print(f\"MAE = {mae}\")"
   ]
  },
  {
   "cell_type": "code",
   "execution_count": null,
   "metadata": {},
   "outputs": [],
   "source": [
    "#Проверяем насколько каждая из колонок имеет ценность\n",
    "\n",
    "imp = pd.Series(lr_model.coef_, name='importance')\n",
    "cols = pd.Series(past_columns, name='columns')\n",
    "df = pd.DataFrame(imp)\n",
    "df['imp'] = cols\n",
    "df"
   ]
  },
  {
   "cell_type": "code",
   "execution_count": null,
   "metadata": {},
   "outputs": [],
   "source": [
    "#Проверяем насколько каждая из колонок имеет ценность\n",
    "#Видим что конкретная модель использует последние 4 дня, а 94% важен последний день\n",
    "\n",
    "imp = pnd.Series(rf_model.feature_importances_, name='importance')\n",
    "cols = pnd.Series(past_columns, name='columns')\n",
    "df = pnd.DataFrame(imp)\n",
    "df['imp'] = cols\n",
    "df"
   ]
  },
  {
   "cell_type": "code",
   "execution_count": null,
   "metadata": {},
   "outputs": [],
   "source": [
    "#На основании соседних точек делает вывод кто ты. Видим, что данная модель тут вообще не работает \n",
    "\n",
    "knn_model = KNeighborsRegressor(n_neighbors=10)\n",
    "knn_model.fit(X_train, Y_train )\n",
    "prediction = knn_model.predict(X_test)\n",
    "plt.plot(prediction, label=\"Prediction\") #Сравниваем на графике предсказанный курс и реальный\n",
    "plt.plot(list(Y_test), label = \"Real\")\n",
    "plt.legend()\n",
    "mae = mean_absolute_error(prediction, Y_test)\n",
    "print(f\"MAE = {mae}\")"
   ]
  },
  {
   "cell_type": "code",
   "execution_count": null,
   "metadata": {
    "ExecuteTime": {
     "end_time": "2021-02-17T09:13:23.653170Z",
     "start_time": "2021-02-17T09:13:23.627217Z"
    }
   },
   "outputs": [],
   "source": [
    "a = [1, 1, 2, 3, 5, 8, 13, 21, 34, 55, 89]\n",
    "for i in a:\n",
    "    if i<5:\n",
    "        print(i)\n",
    "        \n",
    "print(list(filter(lambda i: i < 5, a)))"
   ]
  },
  {
   "cell_type": "code",
   "execution_count": null,
   "metadata": {
    "ExecuteTime": {
     "end_time": "2021-02-17T10:15:09.896246Z",
     "start_time": "2021-02-17T10:15:09.881246Z"
    }
   },
   "outputs": [],
   "source": [
    "a = [1, 1, 2, 3, 5, 8, 13, 21, 34, 55, 89]\n",
    "b = [1, 2, 3, 4, 5, 6, 7, 8, 9, 10, 11, 12, 13]\n",
    "c = []\n",
    "for i in a:\n",
    "    for j in b:\n",
    "        if i == j:\n",
    "            c.append(i)\n",
    "            \n",
    "print(c)    \n",
    "        "
   ]
  },
  {
   "cell_type": "code",
   "execution_count": null,
   "metadata": {
    "ExecuteTime": {
     "end_time": "2021-02-17T10:17:53.729578Z",
     "start_time": "2021-02-17T10:17:53.716581Z"
    }
   },
   "outputs": [],
   "source": [
    "c = [i for i in a if i in b]\n",
    "print(c)"
   ]
  },
  {
   "cell_type": "code",
   "execution_count": null,
   "metadata": {
    "ExecuteTime": {
     "end_time": "2021-02-17T10:17:12.694383Z",
     "start_time": "2021-02-17T10:17:12.677353Z"
    }
   },
   "outputs": [],
   "source": [
    "result = list(filter(lambda elem: elem in b, a))\n",
    "print(result)"
   ]
  },
  {
   "cell_type": "code",
   "execution_count": null,
   "metadata": {
    "ExecuteTime": {
     "end_time": "2021-02-17T10:24:32.360719Z",
     "start_time": "2021-02-17T10:24:32.347689Z"
    }
   },
   "outputs": [],
   "source": [
    "result = list(filter(lambda i: i in b, a))"
   ]
  },
  {
   "cell_type": "code",
   "execution_count": null,
   "metadata": {
    "ExecuteTime": {
     "end_time": "2021-02-17T10:28:57.960883Z",
     "start_time": "2021-02-17T10:28:57.945860Z"
    }
   },
   "outputs": [],
   "source": [
    "print(result)"
   ]
  },
  {
   "cell_type": "code",
   "execution_count": null,
   "metadata": {
    "ExecuteTime": {
     "end_time": "2021-02-17T10:26:36.106706Z",
     "start_time": "2021-02-17T10:26:36.087675Z"
    }
   },
   "outputs": [],
   "source": [
    "import operator\n",
    "d = {1: 2, 3: 4, 4: 3, 2: 1, 0: 0}"
   ]
  },
  {
   "cell_type": "code",
   "execution_count": null,
   "metadata": {
    "ExecuteTime": {
     "end_time": "2021-02-17T10:28:54.102273Z",
     "start_time": "2021-02-17T10:28:54.089262Z"
    }
   },
   "outputs": [],
   "source": [
    "result = dict(sorted(d.items(), key=operator.itemgetter(1), reverse=True))"
   ]
  },
  {
   "cell_type": "markdown",
   "metadata": {},
   "source": [
    "https://tproger.ru/problems/python-3-exercises-for-beginners-geekbrains/"
   ]
  }
 ],
 "metadata": {
  "hide_input": false,
  "kernelspec": {
   "display_name": "Python 3",
   "language": "python",
   "name": "python3"
  },
  "language_info": {
   "codemirror_mode": {
    "name": "ipython",
    "version": 3
   },
   "file_extension": ".py",
   "mimetype": "text/x-python",
   "name": "python",
   "nbconvert_exporter": "python",
   "pygments_lexer": "ipython3",
   "version": "3.8.3"
  },
  "latex_envs": {
   "LaTeX_envs_menu_present": true,
   "autoclose": false,
   "autocomplete": true,
   "bibliofile": "biblio.bib",
   "cite_by": "apalike",
   "current_citInitial": 1,
   "eqLabelWithNumbers": true,
   "eqNumInitial": 1,
   "hotkeys": {
    "equation": "Ctrl-E",
    "itemize": "Ctrl-I"
   },
   "labels_anchors": false,
   "latex_user_defs": false,
   "report_style_numbering": false,
   "user_envs_cfg": false
  },
  "nbTranslate": {
   "displayLangs": [
    "*"
   ],
   "hotkey": "alt-t",
   "langInMainMenu": true,
   "sourceLang": "en",
   "targetLang": "fr",
   "useGoogleTranslate": true
  },
  "toc": {
   "base_numbering": 1,
   "nav_menu": {},
   "number_sections": true,
   "sideBar": true,
   "skip_h1_title": false,
   "title_cell": "Table of Contents",
   "title_sidebar": "Contents",
   "toc_cell": false,
   "toc_position": {},
   "toc_section_display": true,
   "toc_window_display": false
  },
  "varInspector": {
   "cols": {
    "lenName": 16,
    "lenType": 16,
    "lenVar": 40
   },
   "kernels_config": {
    "python": {
     "delete_cmd_postfix": "",
     "delete_cmd_prefix": "del ",
     "library": "var_list.py",
     "varRefreshCmd": "print(var_dic_list())"
    },
    "r": {
     "delete_cmd_postfix": ") ",
     "delete_cmd_prefix": "rm(",
     "library": "var_list.r",
     "varRefreshCmd": "cat(var_dic_list()) "
    }
   },
   "types_to_exclude": [
    "module",
    "function",
    "builtin_function_or_method",
    "instance",
    "_Feature"
   ],
   "window_display": false
  }
 },
 "nbformat": 4,
 "nbformat_minor": 4
}
